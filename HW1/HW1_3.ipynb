{
  "nbformat": 4,
  "nbformat_minor": 0,
  "metadata": {
    "colab": {
      "name": "HW1_3.ipynb",
      "provenance": [],
      "toc_visible": true
    },
    "kernelspec": {
      "name": "python3",
      "display_name": "Python 3"
    }
  },
  "cells": [
    {
      "cell_type": "markdown",
      "metadata": {
        "id": "u6wJulsgzMtp"
      },
      "source": [
        "# **(b)**"
      ]
    },
    {
      "cell_type": "markdown",
      "metadata": {
        "id": "xQ1e7URHO2pT"
      },
      "source": [
        "繼承上題，所使用的model只使用5個features作為input，並代入sigmoid basis。再利用MAP的公式，觀察不同的lambda項造成的結果。"
      ]
    },
    {
      "cell_type": "code",
      "metadata": {
        "id": "NRT50SMqzPa5"
      },
      "source": [
        "import pandas as pd\n",
        "import numpy as np\n",
        "import matplotlib.pyplot as plt"
      ],
      "execution_count": 1,
      "outputs": []
    },
    {
      "cell_type": "code",
      "metadata": {
        "id": "ORZF3wbA0xV_"
      },
      "source": [
        "x = pd.read_csv('data_X.csv').drop('Serial_id',axis=1)\n",
        "y = pd.read_csv('data_T.csv').drop('Serial_id',axis=1)\n",
        "x = (x-x.mean())/(x.std())\n",
        "x = pd.concat([x,y],axis=1)\n",
        "x = x.reindex(np.random.permutation(x.index))"
      ],
      "execution_count": 3,
      "outputs": []
    },
    {
      "cell_type": "code",
      "metadata": {
        "id": "JE2ZLnm62uHG"
      },
      "source": [
        "x_train = x.iloc[:400,[0,1,4,5,6]]\n",
        "x_valid = x.iloc[400:,[0,1,4,5,6]]\n",
        "y_training = pd.DataFrame(x.iloc[:400,-1])\n",
        "y_valid = pd.DataFrame(x.iloc[400:,-1])"
      ],
      "execution_count": 26,
      "outputs": []
    },
    {
      "cell_type": "code",
      "metadata": {
        "id": "XbIXblka3g4x"
      },
      "source": [
        "def sigmoid_basisfunc(data):\n",
        "    new_data = pd.DataFrame()\n",
        "    for i in range(data.shape[1]):\n",
        "        temp = pd.DataFrame(data.iloc[:,i]).applymap(lambda x:1/(1+np.exp(-x))) #輸入的data要先做好標準化才行\n",
        "        new_data = pd.concat([new_data,temp],axis = 1) \n",
        "    return new_data #回傳已經代入sigmoid bisis的input"
      ],
      "execution_count": 15,
      "outputs": []
    },
    {
      "cell_type": "code",
      "metadata": {
        "id": "T2INl7nd3nDw"
      },
      "source": [
        "def Weight(x,y,Lambda=0):\n",
        "    x = pd.concat([pd.Series(1,index=x.index,name = 'w0'),x],axis=1) #將輸入資料補上bias項\n",
        "    x = x.to_numpy() #轉換成矩陣來運算\n",
        "    temp = np.linalg.inv(np.eye(x.shape[1])*Lambda+np.dot(x.T,x))\n",
        "    w = np.dot(np.dot(temp,x.T),y)\n",
        "    return w"
      ],
      "execution_count": 13,
      "outputs": []
    },
    {
      "cell_type": "code",
      "metadata": {
        "id": "eM5jhRN74DFS"
      },
      "source": [
        "def RMS(x,y,w):\n",
        "    x = pd.concat([pd.Series(1,index=x.index,name = 'w0'),x],axis=1) #將輸入資料補上bias項\n",
        "    x = x.to_numpy() #轉換成矩陣來運算\n",
        "    k = np.dot(x,w)\n",
        "    p = k-y\n",
        "    err = (p**2).iloc[:,0].sum()/(2*len(k))\n",
        "    j = (err*2)**0.5\n",
        "    return j"
      ],
      "execution_count": 20,
      "outputs": []
    },
    {
      "cell_type": "code",
      "metadata": {
        "id": "a7DNAKO15F_Y"
      },
      "source": [
        "train_sigmoid = sigmoid_basisfunc(x_train)\n",
        "valid_sigmoid = sigmoid_basisfunc(x_valid)"
      ],
      "execution_count": 58,
      "outputs": []
    },
    {
      "cell_type": "code",
      "metadata": {
        "id": "MV-yemXk_2BZ"
      },
      "source": [
        "def DiffLambda(train_sigmoid,y_training,valid_sigmoid,y_valid,LambdaList):\n",
        "  train_list = []\n",
        "  valid_list = []\n",
        "  for i in LambdaList:\n",
        "    w = Weight(train_sigmoid,y_training,i)\n",
        "    train_list.append(RMS(train_sigmoid,y_training,w))\n",
        "    valid_list.append(RMS(valid_sigmoid,y_valid,w))\n",
        "    print(\"lambda = {}\\nTraining RMS = {}\\nValid RMS = {}\\n\".format(i,RMS(train_sigmoid,y_training,w),RMS(valid_sigmoid,y_valid,w)))\n",
        "  return train_list,valid_list\n"
      ],
      "execution_count": 59,
      "outputs": []
    },
    {
      "cell_type": "code",
      "metadata": {
        "id": "aQ84Gx5BAsFt",
        "outputId": "324557eb-189b-45d1-a7c8-73f98125f65c",
        "colab": {
          "base_uri": "https://localhost:8080/"
        }
      },
      "source": [
        "lambdalist = [0,0.01,0.1,1,10,30,]\n",
        "T_rms,V_rms = DiffLambda(train_sigmoid,y_training,valid_sigmoid,y_valid,lambdalist)"
      ],
      "execution_count": 67,
      "outputs": [
        {
          "output_type": "stream",
          "text": [
            "lambda = 0\n",
            "Training RMS = 0.060095462716651955\n",
            "Valid RMS = 0.0637923030156136\n",
            "\n",
            "lambda = 0.01\n",
            "Training RMS = 0.06009549453581747\n",
            "Valid RMS = 0.06379436516936092\n",
            "\n",
            "lambda = 0.1\n",
            "Training RMS = 0.060098488713130685\n",
            "Valid RMS = 0.0638131403743131\n",
            "\n",
            "lambda = 1\n",
            "Training RMS = 0.060292080359305715\n",
            "Valid RMS = 0.06399822861255183\n",
            "\n",
            "lambda = 10\n",
            "Training RMS = 0.06326414251877281\n",
            "Valid RMS = 0.06478048329340885\n",
            "\n",
            "lambda = 30\n",
            "Training RMS = 0.06921288207599371\n",
            "Valid RMS = 0.06719470721965735\n",
            "\n"
          ],
          "name": "stdout"
        }
      ]
    },
    {
      "cell_type": "code",
      "metadata": {
        "id": "7x_QHsEOAxke",
        "outputId": "104d1b1a-decf-4cab-db6e-fbe56f9743a1",
        "colab": {
          "base_uri": "https://localhost:8080/",
          "height": 312
        }
      },
      "source": [
        "plt.figure()\n",
        "plt.plot(lambdalist,T_rms,'r--',label = 'training')\n",
        "plt.plot(lambdalist,V_rms,'b--',label = 'valid')\n",
        "plt.title('RMS in different Lambda')\n",
        "plt.legend(loc='best')\n",
        "plt.xlabel('Lambda')\n",
        "plt.ylabel('RMS')"
      ],
      "execution_count": 68,
      "outputs": [
        {
          "output_type": "execute_result",
          "data": {
            "text/plain": [
              "Text(0, 0.5, 'RMS')"
            ]
          },
          "metadata": {
            "tags": []
          },
          "execution_count": 68
        },
        {
          "output_type": "display_data",
          "data": {
            "image/png": "[encoded data removed]",
            "text/plain": [
              "<Figure size 432x288 with 1 Axes>"
            ]
          },
          "metadata": {
            "tags": [],
            "needs_background": "light"
          }
        }
      ]
    },
    {
      "cell_type": "code",
      "metadata": {
        "id": "3s7268kgKO3S"
      },
      "source": [
        ""
      ],
      "execution_count": null,
      "outputs": []
    }
  ]
}