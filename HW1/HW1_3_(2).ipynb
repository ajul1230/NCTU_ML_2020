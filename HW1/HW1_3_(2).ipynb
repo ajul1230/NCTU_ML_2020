{
  "nbformat": 4,
  "nbformat_minor": 0,
  "metadata": {
    "colab": {
      "name": "HW1_3.(2).ipynb",
      "provenance": []
    },
    "kernelspec": {
      "name": "python3",
      "display_name": "Python 3"
    }
  },
  "cells": [
    {
      "cell_type": "markdown",
      "metadata": {
        "id": "udxa7Afw8y8S"
      },
      "source": [
        "# **(b)**"
      ]
    },
    {
      "cell_type": "markdown",
      "metadata": {
        "id": "mV84KkjY84c2"
      },
      "source": [
        "此部分為最後一天下午才發現忽略了MAP也要做N fold的部分，在此補上。"
      ]
    },
    {
      "cell_type": "code",
      "metadata": {
        "id": "SVNS7Mkq0eYX"
      },
      "source": [
        "import pandas as pd\n",
        "import numpy as np\n",
        "import matplotlib.pyplot as plt\n",
        "import statistics"
      ],
      "execution_count": 26,
      "outputs": []
    },
    {
      "cell_type": "code",
      "metadata": {
        "id": "fAoWiMN92Z3i"
      },
      "source": [
        "x = pd.read_csv('data_X.csv').drop('Serial_id',axis=1)\n",
        "y = pd.read_csv('data_T.csv').drop('Serial_id',axis=1)\n",
        "x = (x-x.mean())/(x.std())\n",
        "x = pd.concat([x,y],axis=1)\n",
        "x = x.reindex(np.random.permutation(x.index))"
      ],
      "execution_count": 4,
      "outputs": []
    },
    {
      "cell_type": "code",
      "metadata": {
        "id": "EAPKB4t40mbq"
      },
      "source": [
        "x_train = x.iloc[:,[0,1,4,5,6]]\n",
        "y_train = pd.DataFrame(x.iloc[:,-1])"
      ],
      "execution_count": 15,
      "outputs": []
    },
    {
      "cell_type": "code",
      "metadata": {
        "id": "yE_GFDfy2V2R"
      },
      "source": [
        "def sigmoid_basisfunc(data):\n",
        "    new_data = pd.DataFrame()\n",
        "    for i in range(data.shape[1]):\n",
        "        temp = pd.DataFrame(data.iloc[:,i]).applymap(lambda x:1/(1+np.exp(-x))) #輸入的data要先做好標準化才行\n",
        "        new_data = pd.concat([new_data,temp],axis = 1) \n",
        "    return new_data #回傳已經代入sigmoid bisis的input"
      ],
      "execution_count": 17,
      "outputs": []
    },
    {
      "cell_type": "code",
      "metadata": {
        "id": "rpYs3kk72nSa"
      },
      "source": [
        "def Weight(x,y,Lambda=0):\n",
        "    x = pd.concat([pd.Series(1,index=x.index,name = 'w0'),x],axis=1) #將輸入資料補上bias項\n",
        "    x = x.to_numpy() #轉換成矩陣來運算\n",
        "    temp = np.linalg.inv(np.eye(x.shape[1])*Lambda+np.dot(x.T,x))\n",
        "    w = np.dot(np.dot(temp,x.T),y)\n",
        "    return w"
      ],
      "execution_count": 18,
      "outputs": []
    },
    {
      "cell_type": "code",
      "metadata": {
        "id": "HZH-sAyu3JPo"
      },
      "source": [
        "def RMS(x,y,w):\n",
        "    x = pd.concat([pd.Series(1,index=x.index,name = 'w0'),x],axis=1) #將輸入資料補上bias項\n",
        "    x = x.to_numpy() #轉換成矩陣來運算\n",
        "    k = np.dot(x,w)\n",
        "    p = k-y\n",
        "    err = (p**2).iloc[:,0].sum()/(2*len(k))\n",
        "    j = (err*2)**0.5\n",
        "    return j"
      ],
      "execution_count": 19,
      "outputs": []
    },
    {
      "cell_type": "code",
      "metadata": {
        "id": "c4BZl1U_3L4V"
      },
      "source": [
        "train_sigmoid = sigmoid_basisfunc(x_train)"
      ],
      "execution_count": 20,
      "outputs": []
    },
    {
      "cell_type": "code",
      "metadata": {
        "id": "xmEGkXwA3N6f",
        "outputId": "2b52a89d-1f87-45e7-d461-ab535e337fd0",
        "colab": {
          "base_uri": "https://localhost:8080/",
          "height": 402
        }
      },
      "source": [
        "train_sigmoid #已套入基底函數的500筆資料"
      ],
      "execution_count": 30,
      "outputs": [
        {
          "output_type": "execute_result",
          "data": {
            "text/html": [
              "<div>\n",
              "<style scoped>\n",
              "    .dataframe tbody tr th:only-of-type {\n",
              "        vertical-align: middle;\n",
              "    }\n",
              "\n",
              "    .dataframe tbody tr th {\n",
              "        vertical-align: top;\n",
              "    }\n",
              "\n",
              "    .dataframe thead th {\n",
              "        text-align: right;\n",
              "    }\n",
              "</style>\n",
              "<table border=\"1\" class=\"dataframe\">\n",
              "  <thead>\n",
              "    <tr style=\"text-align: right;\">\n",
              "      <th></th>\n",
              "      <th>GRE_score</th>\n",
              "      <th>TOFEL_score</th>\n",
              "      <th>LOR</th>\n",
              "      <th>CGPA</th>\n",
              "      <th>Research</th>\n",
              "    </tr>\n",
              "  </thead>\n",
              "  <tbody>\n",
              "    <tr>\n",
              "      <th>425</th>\n",
              "      <td>0.640595</td>\n",
              "      <td>0.651610</td>\n",
              "      <td>0.837279</td>\n",
              "      <td>0.893046</td>\n",
              "      <td>0.707964</td>\n",
              "    </tr>\n",
              "    <tr>\n",
              "      <th>91</th>\n",
              "      <td>0.175540</td>\n",
              "      <td>0.157652</td>\n",
              "      <td>0.504322</td>\n",
              "      <td>0.180163</td>\n",
              "      <td>0.244711</td>\n",
              "    </tr>\n",
              "    <tr>\n",
              "      <th>430</th>\n",
              "      <td>0.381201</td>\n",
              "      <td>0.371721</td>\n",
              "      <td>0.504322</td>\n",
              "      <td>0.323410</td>\n",
              "      <td>0.707964</td>\n",
              "    </tr>\n",
              "    <tr>\n",
              "      <th>411</th>\n",
              "      <td>0.423752</td>\n",
              "      <td>0.102563</td>\n",
              "      <td>0.104910</td>\n",
              "      <td>0.323410</td>\n",
              "      <td>0.244711</td>\n",
              "    </tr>\n",
              "    <tr>\n",
              "      <th>31</th>\n",
              "      <td>0.717497</td>\n",
              "      <td>0.334197</td>\n",
              "      <td>0.635889</td>\n",
              "      <td>0.387682</td>\n",
              "      <td>0.707964</td>\n",
              "    </tr>\n",
              "    <tr>\n",
              "      <th>...</th>\n",
              "      <td>...</td>\n",
              "      <td>...</td>\n",
              "      <td>...</td>\n",
              "      <td>...</td>\n",
              "      <td>...</td>\n",
              "    </tr>\n",
              "    <tr>\n",
              "      <th>298</th>\n",
              "      <td>0.768112</td>\n",
              "      <td>0.753876</td>\n",
              "      <td>0.749856</td>\n",
              "      <td>0.749723</td>\n",
              "      <td>0.707964</td>\n",
              "    </tr>\n",
              "    <tr>\n",
              "      <th>93</th>\n",
              "      <td>0.202654</td>\n",
              "      <td>0.157652</td>\n",
              "      <td>0.372154</td>\n",
              "      <td>0.240216</td>\n",
              "      <td>0.707964</td>\n",
              "    </tr>\n",
              "    <tr>\n",
              "      <th>442</th>\n",
              "      <td>0.783506</td>\n",
              "      <td>0.809727</td>\n",
              "      <td>0.749856</td>\n",
              "      <td>0.806560</td>\n",
              "      <td>0.707964</td>\n",
              "    </tr>\n",
              "    <tr>\n",
              "      <th>265</th>\n",
              "      <td>0.423752</td>\n",
              "      <td>0.298660</td>\n",
              "      <td>0.256686</td>\n",
              "      <td>0.542702</td>\n",
              "      <td>0.244711</td>\n",
              "    </tr>\n",
              "    <tr>\n",
              "      <th>68</th>\n",
              "      <td>0.533768</td>\n",
              "      <td>0.573777</td>\n",
              "      <td>0.635889</td>\n",
              "      <td>0.743467</td>\n",
              "      <td>0.707964</td>\n",
              "    </tr>\n",
              "  </tbody>\n",
              "</table>\n",
              "<p>500 rows × 5 columns</p>\n",
              "</div>"
            ],
            "text/plain": [
              "     GRE_score  TOFEL_score      LOR       CGPA  Research\n",
              "425   0.640595     0.651610  0.837279  0.893046  0.707964\n",
              "91    0.175540     0.157652  0.504322  0.180163  0.244711\n",
              "430   0.381201     0.371721  0.504322  0.323410  0.707964\n",
              "411   0.423752     0.102563  0.104910  0.323410  0.244711\n",
              "31    0.717497     0.334197  0.635889  0.387682  0.707964\n",
              "..         ...          ...       ...       ...       ...\n",
              "298   0.768112     0.753876  0.749856  0.749723  0.707964\n",
              "93    0.202654     0.157652  0.372154  0.240216  0.707964\n",
              "442   0.783506     0.809727  0.749856  0.806560  0.707964\n",
              "265   0.423752     0.298660  0.256686  0.542702  0.244711\n",
              "68    0.533768     0.573777  0.635889  0.743467  0.707964\n",
              "\n",
              "[500 rows x 5 columns]"
            ]
          },
          "metadata": {
            "tags": []
          },
          "execution_count": 30
        }
      ]
    },
    {
      "cell_type": "code",
      "metadata": {
        "id": "oxfGRfUp6kUl"
      },
      "source": [
        "def N_fold_rms(data,target,N,Lambda=0):#多設定了Lambda作為MAP參數使用\n",
        "    RMS_list_train = []\n",
        "    RMS_list_valid = []\n",
        "    seg = int(len(data)/N) \n",
        "    for i in range(N): \n",
        "        if i == N-1: #避免資料數無法剛好整除N\n",
        "            xvalid = data.iloc[i*seg:,:]\n",
        "            xtrain = data.drop(index = xvalid.index)\n",
        "            yvalid = target.iloc[i*seg:,:]\n",
        "            ytrain = target.drop(index = yvalid.index)\n",
        "        else:\n",
        "            xvalid = data.iloc[i*seg:i*seg+seg,:]\n",
        "            xtrain = data.drop(index = xvalid.index)\n",
        "            yvalid = target.iloc[i*seg:i*seg+seg,:]\n",
        "            ytrain = target.drop(index = yvalid.index)\n",
        "        w_train = Weight(xtrain,ytrain,Lambda)\n",
        "        res_train = RMS(xtrain,ytrain,w_train)\n",
        "        res_valid = RMS(xvalid,yvalid,w_train)\n",
        "        RMS_list_train.append(res_train)\n",
        "        RMS_list_valid.append(res_valid)\n",
        "    print(\"Lambda = {}的5-fold RMS\\ntrain\\n{}\\n\\n平均為:{}\\n\".format(Lambda,RMS_list_train,statistics.mean(RMS_list_train)))\n",
        "    print(\"valid\\n{}\\n\\n平均為:{}\\n\".format(RMS_list_valid,statistics.mean(RMS_list_valid)))\n",
        "    return RMS_list_train,RMS_list_valid"
      ],
      "execution_count": 31,
      "outputs": []
    },
    {
      "cell_type": "code",
      "metadata": {
        "id": "sn2r5-jb67jx",
        "outputId": "3aa7d2fd-10dc-46cb-dc40-5d482ba1ef63",
        "colab": {
          "base_uri": "https://localhost:8080/"
        }
      },
      "source": [
        "lambda_list = [0,0.01,0.1,1,10,30]\n",
        "for i in lambda_list:\n",
        "  N_fold_rms(train_sigmoid,y_train,5,i)"
      ],
      "execution_count": 29,
      "outputs": [
        {
          "output_type": "stream",
          "text": [
            "Lambda = 0的5-fold RMS\n",
            "train\n",
            "[0.059828999316874826, 0.061695330066706126, 0.05964977832661263, 0.06236580421502309, 0.05926635415112024]\n",
            "\n",
            "平均為:0.06056125321526738\n",
            "\n",
            "valid\n",
            "[0.06490819324157625, 0.0577676221872536, 0.06591242907352043, 0.05406594515507924, 0.06770384727058375]\n",
            "\n",
            "平均為:0.062071607385602655\n",
            "\n",
            "Lambda = 0.01的5-fold RMS\n",
            "train\n",
            "[0.05982904038688345, 0.06169536072831166, 0.0596498117295086, 0.06236584097969546, 0.05926640988010301]\n",
            "\n",
            "平均為:0.060561292740900434\n",
            "\n",
            "valid\n",
            "[0.06490111469888883, 0.05777735525512537, 0.06591500451164162, 0.05406472647817993, 0.06768534529811117]\n",
            "\n",
            "平均為:0.062068709248389385\n",
            "\n",
            "Lambda = 0.1的5-fold RMS\n",
            "train\n",
            "[0.05983288417868764, 0.06169824058366792, 0.059652942343190345, 0.062369283079489406, 0.05927158881164662]\n",
            "\n",
            "平均為:0.06056498779933638\n",
            "\n",
            "valid\n",
            "[0.0648418836875566, 0.0578651670425736, 0.06593910011960782, 0.05405743716841653, 0.0675308933691945]\n",
            "\n",
            "平均為:0.06204689627746981\n",
            "\n",
            "Lambda = 1的5-fold RMS\n",
            "train\n",
            "[0.06007153288780299, 0.06188191920123788, 0.05984951153170849, 0.06258321153114908, 0.05957448900039866]\n",
            "\n",
            "平均為:0.06079213283045942\n",
            "\n",
            "valid\n",
            "[0.06453454872675643, 0.058725692286042665, 0.06621174558788705, 0.054201888704445075, 0.06675669106173579]\n",
            "\n",
            "平均為:0.0620861132733734\n",
            "\n",
            "Lambda = 10的5-fold RMS\n",
            "train\n",
            "[0.06336510996626028, 0.06463383057542135, 0.0627004325619815, 0.06549256895469721, 0.06284502323866585]\n",
            "\n",
            "平均為:0.06380739305940523\n",
            "\n",
            "valid\n",
            "[0.0656246185290917, 0.06466755459205595, 0.06744760124692407, 0.05699828236868015, 0.06842260446729395]\n",
            "\n",
            "平均為:0.06463213224080916\n",
            "\n",
            "Lambda = 30的5-fold RMS\n",
            "train\n",
            "[0.06941344616240071, 0.07014616151697248, 0.06852033359989111, 0.07106460571479949, 0.06843508194863143]\n",
            "\n",
            "平均為:0.06951592578853905\n",
            "\n",
            "valid\n",
            "[0.0711406176934409, 0.0747247251548205, 0.06927977523752203, 0.06260586750048192, 0.07266554887245255]\n",
            "\n",
            "平均為:0.07008330689174358\n",
            "\n"
          ],
          "name": "stdout"
        }
      ]
    },
    {
      "cell_type": "code",
      "metadata": {
        "id": "_nYXbTQr8Uid"
      },
      "source": [
        ""
      ],
      "execution_count": null,
      "outputs": []
    }
  ]
}