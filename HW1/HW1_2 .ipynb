{
  "nbformat": 4,
  "nbformat_minor": 0,
  "metadata": {
    "colab": {
      "name": "HW1_2.ipynb",
      "provenance": [],
      "toc_visible": true
    },
    "kernelspec": {
      "name": "python3",
      "display_name": "Python 3"
    }
  },
  "cells": [
    {
      "cell_type": "markdown",
      "metadata": {
        "id": "YObBp_HBM0wq"
      },
      "source": [
        "# **(b)**"
      ]
    },
    {
      "cell_type": "markdown",
      "metadata": {
        "id": "aMqhfi5cOaeA"
      },
      "source": [
        "一樣先引入該用的套件及資料並切分訓練集與驗證集。sigmoid_basisfunc可將資料代入sigmoid基底函數，Weight來計算權重，RMS則用來計算最後的root mean square。並用上題決定好的feature來降低模型的複雜度，減少over-fitting。"
      ]
    },
    {
      "cell_type": "code",
      "metadata": {
        "id": "ZCQgayNRmF3m"
      },
      "source": [
        "import pandas as pd\n",
        "import numpy as np\n",
        "import matplotlib.pyplot as plt\n",
        "import statistics"
      ],
      "execution_count": 1,
      "outputs": []
    },
    {
      "cell_type": "code",
      "metadata": {
        "id": "b7js2HQZtueM"
      },
      "source": [
        "x = pd.read_csv('data_X.csv').drop('Serial_id',axis=1)\n",
        "y = pd.read_csv('data_T.csv').drop('Serial_id',axis=1)\n",
        "x = (x-x.mean())/(x.std())\n",
        "x = pd.concat([x,y],axis=1)\n",
        "x = x.reindex(np.random.permutation(x.index))"
      ],
      "execution_count": 3,
      "outputs": []
    },
    {
      "cell_type": "code",
      "metadata": {
        "id": "jmRI0UZMmU0y"
      },
      "source": [
        "y = y.reindex(x.index)\n",
        "x_training = x.iloc[:400,:-1]\n",
        "x_valid = x.iloc[400:,:-1]\n",
        "y_training = pd.DataFrame(x.iloc[:400,-1])\n",
        "y_valid = pd.DataFrame(x.iloc[400:,-1])"
      ],
      "execution_count": 27,
      "outputs": []
    },
    {
      "cell_type": "code",
      "metadata": {
        "id": "fAZArs1MeToV",
        "outputId": "ca1916d4-925d-4ce0-88bb-612cd4cf6cd9",
        "colab": {
          "base_uri": "https://localhost:8080/",
          "height": 402
        }
      },
      "source": [
        "x_new_train = x.iloc[:400,[0,1,4,5,6]]\n",
        "x_new_valid = x.iloc[400:,[0,1,4,5,6]]\n",
        "x_new_train"
      ],
      "execution_count": 28,
      "outputs": [
        {
          "output_type": "execute_result",
          "data": {
            "text/html": [
              "<div>\n",
              "<style scoped>\n",
              "    .dataframe tbody tr th:only-of-type {\n",
              "        vertical-align: middle;\n",
              "    }\n",
              "\n",
              "    .dataframe tbody tr th {\n",
              "        vertical-align: top;\n",
              "    }\n",
              "\n",
              "    .dataframe thead th {\n",
              "        text-align: right;\n",
              "    }\n",
              "</style>\n",
              "<table border=\"1\" class=\"dataframe\">\n",
              "  <thead>\n",
              "    <tr style=\"text-align: right;\">\n",
              "      <th></th>\n",
              "      <th>GRE_score</th>\n",
              "      <th>TOFEL_score</th>\n",
              "      <th>LOR</th>\n",
              "      <th>CGPA</th>\n",
              "      <th>Research</th>\n",
              "    </tr>\n",
              "  </thead>\n",
              "  <tbody>\n",
              "    <tr>\n",
              "      <th>332</th>\n",
              "      <td>-0.750057</td>\n",
              "      <td>-0.195992</td>\n",
              "      <td>-1.063267</td>\n",
              "      <td>-0.605873</td>\n",
              "      <td>0.885518</td>\n",
              "    </tr>\n",
              "    <tr>\n",
              "      <th>26</th>\n",
              "      <td>0.489414</td>\n",
              "      <td>0.297277</td>\n",
              "      <td>0.017289</td>\n",
              "      <td>0.369635</td>\n",
              "      <td>-1.127023</td>\n",
              "    </tr>\n",
              "    <tr>\n",
              "      <th>141</th>\n",
              "      <td>1.374750</td>\n",
              "      <td>1.777086</td>\n",
              "      <td>0.017289</td>\n",
              "      <td>1.295541</td>\n",
              "      <td>0.885518</td>\n",
              "    </tr>\n",
              "    <tr>\n",
              "      <th>214</th>\n",
              "      <td>1.286216</td>\n",
              "      <td>1.612663</td>\n",
              "      <td>1.638123</td>\n",
              "      <td>1.394746</td>\n",
              "      <td>0.885518</td>\n",
              "    </tr>\n",
              "    <tr>\n",
              "      <th>20</th>\n",
              "      <td>-0.395922</td>\n",
              "      <td>-0.031569</td>\n",
              "      <td>-1.603545</td>\n",
              "      <td>-1.118429</td>\n",
              "      <td>0.885518</td>\n",
              "    </tr>\n",
              "    <tr>\n",
              "      <th>...</th>\n",
              "      <td>...</td>\n",
              "      <td>...</td>\n",
              "      <td>...</td>\n",
              "      <td>...</td>\n",
              "      <td>...</td>\n",
              "    </tr>\n",
              "    <tr>\n",
              "      <th>426</th>\n",
              "      <td>-0.395922</td>\n",
              "      <td>-0.195992</td>\n",
              "      <td>1.638123</td>\n",
              "      <td>-0.010648</td>\n",
              "      <td>-1.127023</td>\n",
              "    </tr>\n",
              "    <tr>\n",
              "      <th>237</th>\n",
              "      <td>1.109149</td>\n",
              "      <td>1.119393</td>\n",
              "      <td>1.638123</td>\n",
              "      <td>1.014463</td>\n",
              "      <td>0.885518</td>\n",
              "    </tr>\n",
              "    <tr>\n",
              "      <th>127</th>\n",
              "      <td>0.223813</td>\n",
              "      <td>0.790547</td>\n",
              "      <td>-1.603545</td>\n",
              "      <td>0.220829</td>\n",
              "      <td>0.885518</td>\n",
              "    </tr>\n",
              "    <tr>\n",
              "      <th>319</th>\n",
              "      <td>0.932082</td>\n",
              "      <td>0.954970</td>\n",
              "      <td>-0.522989</td>\n",
              "      <td>0.187761</td>\n",
              "      <td>0.885518</td>\n",
              "    </tr>\n",
              "    <tr>\n",
              "      <th>10</th>\n",
              "      <td>0.755014</td>\n",
              "      <td>-0.195992</td>\n",
              "      <td>0.557567</td>\n",
              "      <td>-0.291727</td>\n",
              "      <td>0.885518</td>\n",
              "    </tr>\n",
              "  </tbody>\n",
              "</table>\n",
              "<p>400 rows × 5 columns</p>\n",
              "</div>"
            ],
            "text/plain": [
              "     GRE_score  TOFEL_score      LOR       CGPA  Research\n",
              "332  -0.750057    -0.195992 -1.063267 -0.605873  0.885518\n",
              "26    0.489414     0.297277  0.017289  0.369635 -1.127023\n",
              "141   1.374750     1.777086  0.017289  1.295541  0.885518\n",
              "214   1.286216     1.612663  1.638123  1.394746  0.885518\n",
              "20   -0.395922    -0.031569 -1.603545 -1.118429  0.885518\n",
              "..         ...          ...       ...       ...       ...\n",
              "426  -0.395922    -0.195992  1.638123 -0.010648 -1.127023\n",
              "237   1.109149     1.119393  1.638123  1.014463  0.885518\n",
              "127   0.223813     0.790547 -1.603545  0.220829  0.885518\n",
              "319   0.932082     0.954970 -0.522989  0.187761  0.885518\n",
              "10    0.755014    -0.195992  0.557567 -0.291727  0.885518\n",
              "\n",
              "[400 rows x 5 columns]"
            ]
          },
          "metadata": {
            "tags": []
          },
          "execution_count": 28
        }
      ]
    },
    {
      "cell_type": "code",
      "metadata": {
        "id": "rmn8_SBGtyEi"
      },
      "source": [
        "def sigmoid_basisfunc(data):\n",
        "    new_data = pd.DataFrame()\n",
        "    for i in range(data.shape[1]):\n",
        "        temp = pd.DataFrame(data.iloc[:,i]).applymap(lambda x:1/(1+np.exp(-x))) #輸入的data要先做好標準化才行\n",
        "        new_data = pd.concat([new_data,temp],axis = 1) \n",
        "    return new_data #回傳已經代入sigmoid bisis的input"
      ],
      "execution_count": 5,
      "outputs": []
    },
    {
      "cell_type": "code",
      "metadata": {
        "id": "AvSlrgSLuMmd"
      },
      "source": [
        "def Weight(x,y,Lambda=0):\n",
        "    x = pd.concat([pd.Series(1,index=x.index,name = 'w0'),x],axis=1) #將輸入資料補上bias項\n",
        "    x = x.to_numpy() #轉換成矩陣來運算\n",
        "    temp = np.linalg.inv(np.eye(x.shape[1])*Lambda+np.dot(x.T,x))\n",
        "    w = np.dot(np.dot(temp,x.T),y)\n",
        "    return w"
      ],
      "execution_count": 6,
      "outputs": []
    },
    {
      "cell_type": "code",
      "metadata": {
        "id": "a2XPlf5mvxpZ"
      },
      "source": [
        "def RMS(x,y_training,w):\n",
        "    x = pd.concat([pd.Series(1,index=x.index,name = 'w0'),x],axis=1) #將輸入資料補上bias項\n",
        "    x = x.to_numpy() #轉換成矩陣來運算\n",
        "    k = np.dot(x,w)\n",
        "    p = k-y_training\n",
        "    err = (p**2).iloc[:,0].sum()/(2*len(k))\n",
        "    j = (err*2)**0.5\n",
        "    return j"
      ],
      "execution_count": 7,
      "outputs": []
    },
    {
      "cell_type": "code",
      "metadata": {
        "id": "1Wj3MKIuv3hU",
        "outputId": "f9b819c0-6bf6-4f75-b6ab-cfd9f6b258fa",
        "colab": {
          "base_uri": "https://localhost:8080/"
        }
      },
      "source": [
        "sigmoid_train = sigmoid_basisfunc(x_training)\n",
        "sigmoid_valid = sigmoid_basisfunc(x_valid)\n",
        "w_sigmoid = Weight(sigmoid_train,y_training)\n",
        "print(\"Sigmoid basis all features\\nTraining RMS = {}\\nValid RMS = {}\".format(RMS(sigmoid_train,y_training,w_sigmoid),RMS(sigmoid_valid,y_valid,w_sigmoid)))"
      ],
      "execution_count": 30,
      "outputs": [
        {
          "output_type": "stream",
          "text": [
            "Sigmoid basis all features\n",
            "Training RMS = 0.058375327550373876\n",
            "Valid RMS = 0.06974456742184741\n"
          ],
          "name": "stdout"
        }
      ]
    },
    {
      "cell_type": "code",
      "metadata": {
        "id": "rJ9Q0qlXX8Qj",
        "outputId": "f07cc5ba-e03b-45c0-f436-a6700f0fe9a5",
        "colab": {
          "base_uri": "https://localhost:8080/"
        }
      },
      "source": [
        "sigmoid_new_train = sigmoid_basisfunc(x_new_train)\n",
        "sigmoid_new_valid = sigmoid_basisfunc(x_new_valid)\n",
        "w_new_sigmoid = Weight(sigmoid_new_train,y_training)\n",
        "print(\"Sigmoid basis 5 features \\nTraining RMS = {}\\nValid RMS = {}\".format(RMS(sigmoid_new_train,y_training,w_new_sigmoid),RMS(sigmoid_new_valid,y_valid,w_new_sigmoid)))"
      ],
      "execution_count": 34,
      "outputs": [
        {
          "output_type": "stream",
          "text": [
            "Sigmoid basis 5 features \n",
            "Training RMS = 0.05849752556523983\n",
            "Valid RMS = 0.07014837750511017\n"
          ],
          "name": "stdout"
        }
      ]
    },
    {
      "cell_type": "markdown",
      "metadata": {
        "id": "UEZPd87jOPR3"
      },
      "source": [
        "# **(c)**"
      ]
    },
    {
      "cell_type": "markdown",
      "metadata": {
        "id": "rrv4tW4mg0pe"
      },
      "source": [
        "使用N_fold_rms函式來計算N-fold cross-validation的結果。我使用的是N=5來驗證，x_all為全部500筆全部特徵的input資料，而x_new_500則為特徵抽取過後的資料。"
      ]
    },
    {
      "cell_type": "code",
      "metadata": {
        "id": "Sm5WB6X3rKPK",
        "outputId": "936a7c4d-5174-4efd-e84c-e1b4e4f47d5f",
        "colab": {
          "base_uri": "https://localhost:8080/",
          "height": 402
        }
      },
      "source": [
        "x_500 = x.iloc[:,[0,1,4,5,6]]\n",
        "x_500"
      ],
      "execution_count": 17,
      "outputs": [
        {
          "output_type": "execute_result",
          "data": {
            "text/html": [
              "<div>\n",
              "<style scoped>\n",
              "    .dataframe tbody tr th:only-of-type {\n",
              "        vertical-align: middle;\n",
              "    }\n",
              "\n",
              "    .dataframe tbody tr th {\n",
              "        vertical-align: top;\n",
              "    }\n",
              "\n",
              "    .dataframe thead th {\n",
              "        text-align: right;\n",
              "    }\n",
              "</style>\n",
              "<table border=\"1\" class=\"dataframe\">\n",
              "  <thead>\n",
              "    <tr style=\"text-align: right;\">\n",
              "      <th></th>\n",
              "      <th>GRE_score</th>\n",
              "      <th>TOFEL_score</th>\n",
              "      <th>LOR</th>\n",
              "      <th>CGPA</th>\n",
              "      <th>Research</th>\n",
              "    </tr>\n",
              "  </thead>\n",
              "  <tbody>\n",
              "    <tr>\n",
              "      <th>332</th>\n",
              "      <td>-0.750057</td>\n",
              "      <td>-0.195992</td>\n",
              "      <td>-1.063267</td>\n",
              "      <td>-0.605873</td>\n",
              "      <td>0.885518</td>\n",
              "    </tr>\n",
              "    <tr>\n",
              "      <th>26</th>\n",
              "      <td>0.489414</td>\n",
              "      <td>0.297277</td>\n",
              "      <td>0.017289</td>\n",
              "      <td>0.369635</td>\n",
              "      <td>-1.127023</td>\n",
              "    </tr>\n",
              "    <tr>\n",
              "      <th>141</th>\n",
              "      <td>1.374750</td>\n",
              "      <td>1.777086</td>\n",
              "      <td>0.017289</td>\n",
              "      <td>1.295541</td>\n",
              "      <td>0.885518</td>\n",
              "    </tr>\n",
              "    <tr>\n",
              "      <th>214</th>\n",
              "      <td>1.286216</td>\n",
              "      <td>1.612663</td>\n",
              "      <td>1.638123</td>\n",
              "      <td>1.394746</td>\n",
              "      <td>0.885518</td>\n",
              "    </tr>\n",
              "    <tr>\n",
              "      <th>20</th>\n",
              "      <td>-0.395922</td>\n",
              "      <td>-0.031569</td>\n",
              "      <td>-1.603545</td>\n",
              "      <td>-1.118429</td>\n",
              "      <td>0.885518</td>\n",
              "    </tr>\n",
              "    <tr>\n",
              "      <th>...</th>\n",
              "      <td>...</td>\n",
              "      <td>...</td>\n",
              "      <td>...</td>\n",
              "      <td>...</td>\n",
              "      <td>...</td>\n",
              "    </tr>\n",
              "    <tr>\n",
              "      <th>2</th>\n",
              "      <td>-0.041788</td>\n",
              "      <td>-0.524839</td>\n",
              "      <td>0.017289</td>\n",
              "      <td>-0.953088</td>\n",
              "      <td>0.885518</td>\n",
              "    </tr>\n",
              "    <tr>\n",
              "      <th>247</th>\n",
              "      <td>-0.484456</td>\n",
              "      <td>-0.524839</td>\n",
              "      <td>0.017289</td>\n",
              "      <td>-0.159454</td>\n",
              "      <td>-1.127023</td>\n",
              "    </tr>\n",
              "    <tr>\n",
              "      <th>477</th>\n",
              "      <td>-0.661523</td>\n",
              "      <td>-0.360416</td>\n",
              "      <td>-1.603545</td>\n",
              "      <td>-0.655476</td>\n",
              "      <td>-1.127023</td>\n",
              "    </tr>\n",
              "    <tr>\n",
              "      <th>441</th>\n",
              "      <td>1.374750</td>\n",
              "      <td>0.790547</td>\n",
              "      <td>-0.522989</td>\n",
              "      <td>0.138158</td>\n",
              "      <td>0.885518</td>\n",
              "    </tr>\n",
              "    <tr>\n",
              "      <th>480</th>\n",
              "      <td>0.400880</td>\n",
              "      <td>-0.853685</td>\n",
              "      <td>0.557567</td>\n",
              "      <td>0.716850</td>\n",
              "      <td>0.885518</td>\n",
              "    </tr>\n",
              "  </tbody>\n",
              "</table>\n",
              "<p>500 rows × 5 columns</p>\n",
              "</div>"
            ],
            "text/plain": [
              "     GRE_score  TOFEL_score      LOR       CGPA  Research\n",
              "332  -0.750057    -0.195992 -1.063267 -0.605873  0.885518\n",
              "26    0.489414     0.297277  0.017289  0.369635 -1.127023\n",
              "141   1.374750     1.777086  0.017289  1.295541  0.885518\n",
              "214   1.286216     1.612663  1.638123  1.394746  0.885518\n",
              "20   -0.395922    -0.031569 -1.603545 -1.118429  0.885518\n",
              "..         ...          ...       ...       ...       ...\n",
              "2    -0.041788    -0.524839  0.017289 -0.953088  0.885518\n",
              "247  -0.484456    -0.524839  0.017289 -0.159454 -1.127023\n",
              "477  -0.661523    -0.360416 -1.603545 -0.655476 -1.127023\n",
              "441   1.374750     0.790547 -0.522989  0.138158  0.885518\n",
              "480   0.400880    -0.853685  0.557567  0.716850  0.885518\n",
              "\n",
              "[500 rows x 5 columns]"
            ]
          },
          "metadata": {
            "tags": []
          },
          "execution_count": 17
        }
      ]
    },
    {
      "cell_type": "code",
      "metadata": {
        "id": "-r7c2NsU5ETW",
        "outputId": "b65e1909-4057-473f-d148-3c12a0386d01",
        "colab": {
          "base_uri": "https://localhost:8080/",
          "height": 402
        }
      },
      "source": [
        "x_all = sigmoid_basisfunc(x.iloc[:,:-1])\n",
        "x_all"
      ],
      "execution_count": 22,
      "outputs": [
        {
          "output_type": "execute_result",
          "data": {
            "text/html": [
              "<div>\n",
              "<style scoped>\n",
              "    .dataframe tbody tr th:only-of-type {\n",
              "        vertical-align: middle;\n",
              "    }\n",
              "\n",
              "    .dataframe tbody tr th {\n",
              "        vertical-align: top;\n",
              "    }\n",
              "\n",
              "    .dataframe thead th {\n",
              "        text-align: right;\n",
              "    }\n",
              "</style>\n",
              "<table border=\"1\" class=\"dataframe\">\n",
              "  <thead>\n",
              "    <tr style=\"text-align: right;\">\n",
              "      <th></th>\n",
              "      <th>GRE_score</th>\n",
              "      <th>TOFEL_score</th>\n",
              "      <th>University_rating</th>\n",
              "      <th>SOP</th>\n",
              "      <th>LOR</th>\n",
              "      <th>CGPA</th>\n",
              "      <th>Research</th>\n",
              "    </tr>\n",
              "  </thead>\n",
              "  <tbody>\n",
              "    <tr>\n",
              "      <th>332</th>\n",
              "      <td>0.320809</td>\n",
              "      <td>0.451158</td>\n",
              "      <td>0.475097</td>\n",
              "      <td>0.531743</td>\n",
              "      <td>0.256686</td>\n",
              "      <td>0.353001</td>\n",
              "      <td>0.707964</td>\n",
              "    </tr>\n",
              "    <tr>\n",
              "      <th>26</th>\n",
              "      <td>0.619968</td>\n",
              "      <td>0.573777</td>\n",
              "      <td>0.838797</td>\n",
              "      <td>0.756985</td>\n",
              "      <td>0.504322</td>\n",
              "      <td>0.591371</td>\n",
              "      <td>0.244711</td>\n",
              "    </tr>\n",
              "    <tr>\n",
              "      <th>141</th>\n",
              "      <td>0.798146</td>\n",
              "      <td>0.855337</td>\n",
              "      <td>0.274046</td>\n",
              "      <td>0.756985</td>\n",
              "      <td>0.504322</td>\n",
              "      <td>0.785084</td>\n",
              "      <td>0.707964</td>\n",
              "    </tr>\n",
              "    <tr>\n",
              "      <th>214</th>\n",
              "      <td>0.783506</td>\n",
              "      <td>0.833781</td>\n",
              "      <td>0.684560</td>\n",
              "      <td>0.756985</td>\n",
              "      <td>0.837279</td>\n",
              "      <td>0.801349</td>\n",
              "      <td>0.707964</td>\n",
              "    </tr>\n",
              "    <tr>\n",
              "      <th>20</th>\n",
              "      <td>0.402292</td>\n",
              "      <td>0.492108</td>\n",
              "      <td>0.475097</td>\n",
              "      <td>0.406755</td>\n",
              "      <td>0.167487</td>\n",
              "      <td>0.246303</td>\n",
              "      <td>0.707964</td>\n",
              "    </tr>\n",
              "    <tr>\n",
              "      <th>...</th>\n",
              "      <td>...</td>\n",
              "      <td>...</td>\n",
              "      <td>...</td>\n",
              "      <td>...</td>\n",
              "      <td>...</td>\n",
              "      <td>...</td>\n",
              "      <td>...</td>\n",
              "    </tr>\n",
              "    <tr>\n",
              "      <th>2</th>\n",
              "      <td>0.489555</td>\n",
              "      <td>0.371721</td>\n",
              "      <td>0.475097</td>\n",
              "      <td>0.406755</td>\n",
              "      <td>0.504322</td>\n",
              "      <td>0.278264</td>\n",
              "      <td>0.707964</td>\n",
              "    </tr>\n",
              "    <tr>\n",
              "      <th>247</th>\n",
              "      <td>0.381201</td>\n",
              "      <td>0.371721</td>\n",
              "      <td>0.274046</td>\n",
              "      <td>0.292777</td>\n",
              "      <td>0.504322</td>\n",
              "      <td>0.460221</td>\n",
              "      <td>0.244711</td>\n",
              "    </tr>\n",
              "    <tr>\n",
              "      <th>477</th>\n",
              "      <td>0.340398</td>\n",
              "      <td>0.410859</td>\n",
              "      <td>0.684560</td>\n",
              "      <td>0.531743</td>\n",
              "      <td>0.167487</td>\n",
              "      <td>0.341757</td>\n",
              "      <td>0.244711</td>\n",
              "    </tr>\n",
              "    <tr>\n",
              "      <th>441</th>\n",
              "      <td>0.798146</td>\n",
              "      <td>0.687949</td>\n",
              "      <td>0.136027</td>\n",
              "      <td>0.131129</td>\n",
              "      <td>0.372154</td>\n",
              "      <td>0.534485</td>\n",
              "      <td>0.707964</td>\n",
              "    </tr>\n",
              "    <tr>\n",
              "      <th>480</th>\n",
              "      <td>0.598899</td>\n",
              "      <td>0.298660</td>\n",
              "      <td>0.475097</td>\n",
              "      <td>0.531743</td>\n",
              "      <td>0.635889</td>\n",
              "      <td>0.671913</td>\n",
              "      <td>0.707964</td>\n",
              "    </tr>\n",
              "  </tbody>\n",
              "</table>\n",
              "<p>500 rows × 7 columns</p>\n",
              "</div>"
            ],
            "text/plain": [
              "     GRE_score  TOFEL_score  University_rating  ...      LOR       CGPA  Research\n",
              "332   0.320809     0.451158           0.475097  ...  0.256686  0.353001  0.707964\n",
              "26    0.619968     0.573777           0.838797  ...  0.504322  0.591371  0.244711\n",
              "141   0.798146     0.855337           0.274046  ...  0.504322  0.785084  0.707964\n",
              "214   0.783506     0.833781           0.684560  ...  0.837279  0.801349  0.707964\n",
              "20    0.402292     0.492108           0.475097  ...  0.167487  0.246303  0.707964\n",
              "..         ...          ...                ...  ...       ...       ...       ...\n",
              "2     0.489555     0.371721           0.475097  ...  0.504322  0.278264  0.707964\n",
              "247   0.381201     0.371721           0.274046  ...  0.504322  0.460221  0.244711\n",
              "477   0.340398     0.410859           0.684560  ...  0.167487  0.341757  0.244711\n",
              "441   0.798146     0.687949           0.136027  ...  0.372154  0.534485  0.707964\n",
              "480   0.598899     0.298660           0.475097  ...  0.635889  0.671913  0.707964\n",
              "\n",
              "[500 rows x 7 columns]"
            ]
          },
          "metadata": {
            "tags": []
          },
          "execution_count": 22
        }
      ]
    },
    {
      "cell_type": "code",
      "metadata": {
        "id": "KH7TLMAh4Sr3",
        "outputId": "dbb7bcf8-225a-4f63-9d57-73325fb9a275",
        "colab": {
          "base_uri": "https://localhost:8080/",
          "height": 402
        }
      },
      "source": [
        "y_500 = x.iloc[:,-1]\n",
        "y_500 = pd.DataFrame(y_500)\n",
        "y_500"
      ],
      "execution_count": 13,
      "outputs": [
        {
          "output_type": "execute_result",
          "data": {
            "text/html": [
              "<div>\n",
              "<style scoped>\n",
              "    .dataframe tbody tr th:only-of-type {\n",
              "        vertical-align: middle;\n",
              "    }\n",
              "\n",
              "    .dataframe tbody tr th {\n",
              "        vertical-align: top;\n",
              "    }\n",
              "\n",
              "    .dataframe thead th {\n",
              "        text-align: right;\n",
              "    }\n",
              "</style>\n",
              "<table border=\"1\" class=\"dataframe\">\n",
              "  <thead>\n",
              "    <tr style=\"text-align: right;\">\n",
              "      <th></th>\n",
              "      <th>Chance_of_Admit</th>\n",
              "    </tr>\n",
              "  </thead>\n",
              "  <tbody>\n",
              "    <tr>\n",
              "      <th>332</th>\n",
              "      <td>0.75</td>\n",
              "    </tr>\n",
              "    <tr>\n",
              "      <th>26</th>\n",
              "      <td>0.76</td>\n",
              "    </tr>\n",
              "    <tr>\n",
              "      <th>141</th>\n",
              "      <td>0.90</td>\n",
              "    </tr>\n",
              "    <tr>\n",
              "      <th>214</th>\n",
              "      <td>0.94</td>\n",
              "    </tr>\n",
              "    <tr>\n",
              "      <th>20</th>\n",
              "      <td>0.64</td>\n",
              "    </tr>\n",
              "    <tr>\n",
              "      <th>...</th>\n",
              "      <td>...</td>\n",
              "    </tr>\n",
              "    <tr>\n",
              "      <th>2</th>\n",
              "      <td>0.72</td>\n",
              "    </tr>\n",
              "    <tr>\n",
              "      <th>247</th>\n",
              "      <td>0.71</td>\n",
              "    </tr>\n",
              "    <tr>\n",
              "      <th>477</th>\n",
              "      <td>0.65</td>\n",
              "    </tr>\n",
              "    <tr>\n",
              "      <th>441</th>\n",
              "      <td>0.79</td>\n",
              "    </tr>\n",
              "    <tr>\n",
              "      <th>480</th>\n",
              "      <td>0.80</td>\n",
              "    </tr>\n",
              "  </tbody>\n",
              "</table>\n",
              "<p>500 rows × 1 columns</p>\n",
              "</div>"
            ],
            "text/plain": [
              "     Chance_of_Admit \n",
              "332              0.75\n",
              "26               0.76\n",
              "141              0.90\n",
              "214              0.94\n",
              "20               0.64\n",
              "..                ...\n",
              "2                0.72\n",
              "247              0.71\n",
              "477              0.65\n",
              "441              0.79\n",
              "480              0.80\n",
              "\n",
              "[500 rows x 1 columns]"
            ]
          },
          "metadata": {
            "tags": []
          },
          "execution_count": 13
        }
      ]
    },
    {
      "cell_type": "code",
      "metadata": {
        "id": "nX5y2A_Fq3kF",
        "outputId": "4229136e-bfde-449d-c6fc-14bd4c7734e4",
        "colab": {
          "base_uri": "https://localhost:8080/",
          "height": 402
        }
      },
      "source": [
        "x_new_500 = sigmoid_basisfunc(x_500)\n",
        "x_new_500"
      ],
      "execution_count": 10,
      "outputs": [
        {
          "output_type": "execute_result",
          "data": {
            "text/html": [
              "<div>\n",
              "<style scoped>\n",
              "    .dataframe tbody tr th:only-of-type {\n",
              "        vertical-align: middle;\n",
              "    }\n",
              "\n",
              "    .dataframe tbody tr th {\n",
              "        vertical-align: top;\n",
              "    }\n",
              "\n",
              "    .dataframe thead th {\n",
              "        text-align: right;\n",
              "    }\n",
              "</style>\n",
              "<table border=\"1\" class=\"dataframe\">\n",
              "  <thead>\n",
              "    <tr style=\"text-align: right;\">\n",
              "      <th></th>\n",
              "      <th>GRE_score</th>\n",
              "      <th>TOFEL_score</th>\n",
              "      <th>LOR</th>\n",
              "      <th>CGPA</th>\n",
              "      <th>Research</th>\n",
              "    </tr>\n",
              "  </thead>\n",
              "  <tbody>\n",
              "    <tr>\n",
              "      <th>332</th>\n",
              "      <td>0.320809</td>\n",
              "      <td>0.451158</td>\n",
              "      <td>0.256686</td>\n",
              "      <td>0.353001</td>\n",
              "      <td>0.707964</td>\n",
              "    </tr>\n",
              "    <tr>\n",
              "      <th>26</th>\n",
              "      <td>0.619968</td>\n",
              "      <td>0.573777</td>\n",
              "      <td>0.504322</td>\n",
              "      <td>0.591371</td>\n",
              "      <td>0.244711</td>\n",
              "    </tr>\n",
              "    <tr>\n",
              "      <th>141</th>\n",
              "      <td>0.798146</td>\n",
              "      <td>0.855337</td>\n",
              "      <td>0.504322</td>\n",
              "      <td>0.785084</td>\n",
              "      <td>0.707964</td>\n",
              "    </tr>\n",
              "    <tr>\n",
              "      <th>214</th>\n",
              "      <td>0.783506</td>\n",
              "      <td>0.833781</td>\n",
              "      <td>0.837279</td>\n",
              "      <td>0.801349</td>\n",
              "      <td>0.707964</td>\n",
              "    </tr>\n",
              "    <tr>\n",
              "      <th>20</th>\n",
              "      <td>0.402292</td>\n",
              "      <td>0.492108</td>\n",
              "      <td>0.167487</td>\n",
              "      <td>0.246303</td>\n",
              "      <td>0.707964</td>\n",
              "    </tr>\n",
              "    <tr>\n",
              "      <th>...</th>\n",
              "      <td>...</td>\n",
              "      <td>...</td>\n",
              "      <td>...</td>\n",
              "      <td>...</td>\n",
              "      <td>...</td>\n",
              "    </tr>\n",
              "    <tr>\n",
              "      <th>2</th>\n",
              "      <td>0.489555</td>\n",
              "      <td>0.371721</td>\n",
              "      <td>0.504322</td>\n",
              "      <td>0.278264</td>\n",
              "      <td>0.707964</td>\n",
              "    </tr>\n",
              "    <tr>\n",
              "      <th>247</th>\n",
              "      <td>0.381201</td>\n",
              "      <td>0.371721</td>\n",
              "      <td>0.504322</td>\n",
              "      <td>0.460221</td>\n",
              "      <td>0.244711</td>\n",
              "    </tr>\n",
              "    <tr>\n",
              "      <th>477</th>\n",
              "      <td>0.340398</td>\n",
              "      <td>0.410859</td>\n",
              "      <td>0.167487</td>\n",
              "      <td>0.341757</td>\n",
              "      <td>0.244711</td>\n",
              "    </tr>\n",
              "    <tr>\n",
              "      <th>441</th>\n",
              "      <td>0.798146</td>\n",
              "      <td>0.687949</td>\n",
              "      <td>0.372154</td>\n",
              "      <td>0.534485</td>\n",
              "      <td>0.707964</td>\n",
              "    </tr>\n",
              "    <tr>\n",
              "      <th>480</th>\n",
              "      <td>0.598899</td>\n",
              "      <td>0.298660</td>\n",
              "      <td>0.635889</td>\n",
              "      <td>0.671913</td>\n",
              "      <td>0.707964</td>\n",
              "    </tr>\n",
              "  </tbody>\n",
              "</table>\n",
              "<p>500 rows × 5 columns</p>\n",
              "</div>"
            ],
            "text/plain": [
              "     GRE_score  TOFEL_score      LOR       CGPA  Research\n",
              "332   0.320809     0.451158  0.256686  0.353001  0.707964\n",
              "26    0.619968     0.573777  0.504322  0.591371  0.244711\n",
              "141   0.798146     0.855337  0.504322  0.785084  0.707964\n",
              "214   0.783506     0.833781  0.837279  0.801349  0.707964\n",
              "20    0.402292     0.492108  0.167487  0.246303  0.707964\n",
              "..         ...          ...       ...       ...       ...\n",
              "2     0.489555     0.371721  0.504322  0.278264  0.707964\n",
              "247   0.381201     0.371721  0.504322  0.460221  0.244711\n",
              "477   0.340398     0.410859  0.167487  0.341757  0.244711\n",
              "441   0.798146     0.687949  0.372154  0.534485  0.707964\n",
              "480   0.598899     0.298660  0.635889  0.671913  0.707964\n",
              "\n",
              "[500 rows x 5 columns]"
            ]
          },
          "metadata": {
            "tags": []
          },
          "execution_count": 10
        }
      ]
    },
    {
      "cell_type": "code",
      "metadata": {
        "id": "vrviFcbe26WD"
      },
      "source": [
        "def N_fold_rms(data,target,N):\n",
        "    RMS_list_train = []\n",
        "    RMS_list_valid = []\n",
        "    seg = int(len(data)/N) \n",
        "    for i in range(N): \n",
        "        if i == N-1: #避免資料數無法剛好整除N\n",
        "            xvalid = data.iloc[i*seg:,:]\n",
        "            xtrain = data.drop(index = xvalid.index)\n",
        "            yvalid = target.iloc[i*seg:,:]\n",
        "            ytrain = target.drop(index = yvalid.index)\n",
        "        else:\n",
        "            xvalid = data.iloc[i*seg:i*seg+seg,:]\n",
        "            xtrain = data.drop(index = xvalid.index)\n",
        "            yvalid = target.iloc[i*seg:i*seg+seg,:]\n",
        "            ytrain = target.drop(index = yvalid.index)\n",
        "        w_train = Weight(xtrain,ytrain)\n",
        "        res_train = RMS(xtrain,ytrain,w_train)\n",
        "        res_valid = RMS(xvalid,yvalid,w_train)\n",
        "        RMS_list_train.append(res_train)\n",
        "        RMS_list_valid.append(res_valid)\n",
        "    return RMS_list_train,RMS_list_valid"
      ],
      "execution_count": 14,
      "outputs": []
    },
    {
      "cell_type": "code",
      "metadata": {
        "id": "i2wJTmRC30DG",
        "outputId": "df1bada8-a7b5-4a56-9af7-04b311fca862",
        "colab": {
          "base_uri": "https://localhost:8080/"
        }
      },
      "source": [
        "train_rms,valid_rms = N_fold_rms(x_all,y_500,5)\n",
        "print(\"利用全部features的5-fold RMS\\ntrain\\n{}\\n\\n平均為:{}\\n\".format(train_rms,statistics.mean(train_rms)))\n",
        "print(\"valid\\n{}\\n\\n平均為:{}\".format(valid_rms,statistics.mean(valid_rms)))"
      ],
      "execution_count": 23,
      "outputs": [
        {
          "output_type": "stream",
          "text": [
            "利用全部features的5-fold RMS\n",
            "train\n",
            "[0.060263982291069995, 0.06232601023775566, 0.060409320080980815, 0.060138905706298804, 0.058375327550373876]\n",
            "\n",
            "平均為:0.06030270917329583\n",
            "\n",
            "valid\n",
            "[0.0621191884198519, 0.053862428194866904, 0.06207149803946537, 0.06292965593380032, 0.06974456742184741]\n",
            "\n",
            "平均為:0.06214546760196638\n"
          ],
          "name": "stdout"
        }
      ]
    },
    {
      "cell_type": "code",
      "metadata": {
        "id": "jYdVjdrBhjLi",
        "outputId": "50805201-e5fd-4f36-a225-812f913b2b18",
        "colab": {
          "base_uri": "https://localhost:8080/"
        }
      },
      "source": [
        "train_5features,valid_5fetures = N_fold_rms(x_new_500,y_500,5)\n",
        "print(\"只利用5個features的5-fold RMS\\ntrain\\n{}\\n\\n平均為:{}\\n\".format(train_5features,statistics.mean(train_5features)))\n",
        "print(\"valid\\n{}\\n\\n平均為:{}\".format(valid_5fetures,statistics.mean(valid_5fetures)))"
      ],
      "execution_count": 24,
      "outputs": [
        {
          "output_type": "stream",
          "text": [
            "只利用5個features的5-fold RMS\n",
            "train\n",
            "[0.060587894937939146, 0.06247060213113423, 0.060932445547208405, 0.060337391765977494, 0.05849752556523983]\n",
            "\n",
            "平均為:0.06056517198949982\n",
            "\n",
            "valid\n",
            "[0.0617394332201356, 0.05440654328546694, 0.060697316637533846, 0.06323506766891095, 0.07014837750511017]\n",
            "\n",
            "平均為:0.062045347663431505\n"
          ],
          "name": "stdout"
        }
      ]
    },
    {
      "cell_type": "code",
      "metadata": {
        "id": "b3M9JcJZtUeE",
        "outputId": "b56e06f0-797d-4fd2-ea06-d3ae44a1b238",
        "colab": {
          "base_uri": "https://localhost:8080/",
          "height": 312
        }
      },
      "source": [
        "plt.figure()\n",
        "plt.plot([1,2,3,4,5],train_rms,'r--',label = 'training')\n",
        "plt.plot([1,2,3,4,5],valid_rms,'b--',label = 'valid')\n",
        "plt.title('all features')\n",
        "plt.legend(loc='best')\n",
        "plt.xlabel('N-fold')\n",
        "plt.ylabel('RMS')"
      ],
      "execution_count": 25,
      "outputs": [
        {
          "output_type": "execute_result",
          "data": {
            "text/plain": [
              "Text(0, 0.5, 'RMS')"
            ]
          },
          "metadata": {
            "tags": []
          },
          "execution_count": 25
        },
        {
          "output_type": "display_data",
          "data": {
            "image/png": "[encoded data removed]",
            "text/plain": [
              "<Figure size 432x288 with 1 Axes>"
            ]
          },
          "metadata": {
            "tags": [],
            "needs_background": "light"
          }
        }
      ]
    },
    {
      "cell_type": "code",
      "metadata": {
        "id": "y4UTy9i0xRbP",
        "outputId": "98cd590c-eb5a-4f22-c561-3a20a046d752",
        "colab": {
          "base_uri": "https://localhost:8080/",
          "height": 312
        }
      },
      "source": [
        "plt.figure()\n",
        "plt.plot([1,2,3,4,5],train_5features,'r--',label = 'training')\n",
        "plt.plot([1,2,3,4,5],valid_5fetures,'b--',label = 'valid')\n",
        "plt.title('5 features')\n",
        "plt.legend(loc='best')\n",
        "plt.xlabel('N-fold')\n",
        "plt.ylabel('RMS')"
      ],
      "execution_count": 26,
      "outputs": [
        {
          "output_type": "execute_result",
          "data": {
            "text/plain": [
              "Text(0, 0.5, 'RMS')"
            ]
          },
          "metadata": {
            "tags": []
          },
          "execution_count": 26
        },
        {
          "output_type": "display_data",
          "data": {
            "image/png": "[encoded data removed]",
            "text/plain": [
              "<Figure size 432x288 with 1 Axes>"
            ]
          },
          "metadata": {
            "tags": [],
            "needs_background": "light"
          }
        }
      ]
    },
    {
      "cell_type": "code",
      "metadata": {
        "id": "_e_yZ8yn6Hji"
      },
      "source": [
        ""
      ],
      "execution_count": null,
      "outputs": []
    }
  ]
}